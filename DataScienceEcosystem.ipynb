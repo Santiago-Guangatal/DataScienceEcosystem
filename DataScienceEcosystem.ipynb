{
 "cells": [
  {
   "cell_type": "markdown",
   "id": "e0816bad",
   "metadata": {},
   "source": [
    "# Data Science Tools and Ecosystem"
   ]
  },
  {
   "cell_type": "markdown",
   "id": "9dad4fa9",
   "metadata": {},
   "source": [
    "## Author: \n",
    "Santiago Guangatal"
   ]
  },
  {
   "cell_type": "markdown",
   "id": "f78e80b3",
   "metadata": {},
   "source": [
    "**In this notebook, Data Science Tools and Ecosystem are summarized.**"
   ]
  },
  {
   "cell_type": "markdown",
   "id": "8194bb88",
   "metadata": {},
   "source": [
    "**Objectives**\n",
    "\n",
    "1. List popular languages for Data Science.\n",
    "2. List commonly used libraries used by Data Scientists.\n",
    "3. Create a markdown cell with a table"
   ]
  },
  {
   "cell_type": "markdown",
   "id": "4c6c7ae9",
   "metadata": {},
   "source": [
    "Some of the popular languages that Data Scientists use are:\n",
    "\n",
    "1. Python\n",
    "2. R\n",
    "4. Java"
   ]
  },
  {
   "cell_type": "markdown",
   "id": "443d1ab2",
   "metadata": {},
   "source": [
    "Some of the commonly used libraries used by Data Scientists include:\n",
    "\n",
    "1. Numpy\n",
    "2. Pandas\n",
    "3. Matplotlib"
   ]
  },
  {
   "cell_type": "markdown",
   "id": "a3d7722b",
   "metadata": {},
   "source": [
    "| Data Science Tools       |\n",
    "|--------------------------|\n",
    "| Jupyter Notebook         |\n",
    "| RStudio                  |\n",
    "| Apache Zeppelin          |"
   ]
  },
  {
   "cell_type": "markdown",
   "id": "d3d9eec9",
   "metadata": {},
   "source": [
    "### Below are a few examples of evaluating arithmetic expressions in Python"
   ]
  },
  {
   "cell_type": "markdown",
   "id": "603dcde4",
   "metadata": {},
   "source": [
    "- Addition: `3 + 5` results in `8`\n",
    "- Subtraction: `10 - 4` results in `6`\n",
    "- Multiplication: `7 * 6` results in `42`\n",
    "- Division: `8 / 2` results in `4.0`\n",
    "- Exponentiation: `2 ** 3` results in `8`\n",
    "- Modulus: `10 % 3` results in `1`"
   ]
  },
  {
   "cell_type": "code",
   "execution_count": 3,
   "id": "62ed5719",
   "metadata": {},
   "outputs": [
    {
     "data": {
      "text/plain": [
       "3.3333333333333335"
      ]
     },
     "execution_count": 3,
     "metadata": {},
     "output_type": "execute_result"
    }
   ],
   "source": [
    "# This will convert 200 minutes to hours by diving by 60\n",
    " \n",
    "200 / 60"
   ]
  },
  {
   "cell_type": "code",
   "execution_count": null,
   "id": "6ef24345",
   "metadata": {},
   "outputs": [],
   "source": []
  }
 ],
 "metadata": {
  "kernelspec": {
   "display_name": "Python 3 (ipykernel)",
   "language": "python",
   "name": "python3"
  },
  "language_info": {
   "codemirror_mode": {
    "name": "ipython",
    "version": 3
   },
   "file_extension": ".py",
   "mimetype": "text/x-python",
   "name": "python",
   "nbconvert_exporter": "python",
   "pygments_lexer": "ipython3",
   "version": "3.9.16"
  }
 },
 "nbformat": 4,
 "nbformat_minor": 5
}
